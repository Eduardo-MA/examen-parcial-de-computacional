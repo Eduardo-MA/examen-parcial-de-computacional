{
  "nbformat": 4,
  "nbformat_minor": 0,
  "metadata": {
    "colab": {
      "provenance": [],
      "authorship_tag": "ABX9TyP7eajQpxt85ya7eIWe4kjp",
      "include_colab_link": true
    },
    "kernelspec": {
      "name": "python3",
      "display_name": "Python 3"
    },
    "language_info": {
      "name": "python"
    }
  },
  "cells": [
    {
      "cell_type": "markdown",
      "metadata": {
        "id": "view-in-github",
        "colab_type": "text"
      },
      "source": [
        "<a href=\"https://colab.research.google.com/github/Eduardo-MA/examen-parcial-de-computacional/blob/main/Untitled0.ipynb\" target=\"_parent\"><img src=\"https://colab.research.google.com/assets/colab-badge.svg\" alt=\"Open In Colab\"/></a>"
      ]
    },
    {
      "cell_type": "code",
      "execution_count": 1,
      "metadata": {
        "colab": {
          "base_uri": "https://localhost:8080/"
        },
        "id": "znQalIrS0A1s",
        "outputId": "df0ec67c-b782-4e7e-ccf6-e23c02111624"
      },
      "outputs": [
        {
          "output_type": "stream",
          "name": "stdout",
          "text": [
            "hola mundotee\n"
          ]
        }
      ],
      "source": [
        "print(\"hola mundotee\")"
      ]
    },
    {
      "cell_type": "code",
      "source": [
        "from google.colab import drive\n",
        "drive.mount('/content/drive')"
      ],
      "metadata": {
        "id": "pRu0CzUMt6bZ"
      },
      "execution_count": null,
      "outputs": []
    },
    {
      "cell_type": "code",
      "source": [
        "nombre= input(\"¿Cuál es tu numbre?: \")\n",
        "print(\"hola\", nombre, \"Fui creado por Eduardo Méndez para calcular el área de un triangulo y un circulo\")\n",
        "input(\"¿Qué necesitas calcular?:  \")\n",
        "print(\"Okay, abajo estan los espacios para colocar los valores para obtener una respuesta\")"
      ],
      "metadata": {
        "colab": {
          "base_uri": "https://localhost:8080/"
        },
        "id": "ugRpNQrDHfQO",
        "outputId": "384a9f3a-9484-4de9-d700-edfe2093f8c8"
      },
      "execution_count": null,
      "outputs": [
        {
          "output_type": "stream",
          "name": "stdout",
          "text": [
            "¿Cuál es tu numbre?: Eduardo\n",
            "hola Eduardo Fui creado por Eduardo Méndez para calcular el área de un triangulo y un cirulo\n",
            "¿Qué necesitas calcular?:  Calcular el area de un circulo\n",
            "Okay, abajo estan los espacios para colocar los valores para obtener una respuesta\n"
          ]
        }
      ]
    },
    {
      "cell_type": "markdown",
      "source": [
        "##Area de un triangulo"
      ],
      "metadata": {
        "id": "OUBeBmQb0vqA"
      }
    },
    {
      "cell_type": "code",
      "source": [
        "from re import A\n",
        "Base = int(input(\"Digite la base del triangulo:\"))\n",
        "Altura = int(input(\"Digite la altura de la base:\"))\n",
        "Area= Base*Altura/2\n",
        "print(\"el area del triangulo es:\", Area)"
      ],
      "metadata": {
        "id": "dJch9TdZOrvi"
      },
      "execution_count": null,
      "outputs": []
    },
    {
      "cell_type": "markdown",
      "source": [
        "##Area de un ciruclo"
      ],
      "metadata": {
        "id": "3n51e_cbUZ4W"
      }
    },
    {
      "cell_type": "code",
      "source": [
        "pi = 3.1417\n",
        "R2 = int(input(\"Digite el radio del circulo:\"))\n",
        "Area = pi*(R2*R2)\n",
        "print(\"El area del circulo es:\", Area)"
      ],
      "metadata": {
        "id": "o4djEbxJUf81"
      },
      "execution_count": null,
      "outputs": []
    }
  ]
}